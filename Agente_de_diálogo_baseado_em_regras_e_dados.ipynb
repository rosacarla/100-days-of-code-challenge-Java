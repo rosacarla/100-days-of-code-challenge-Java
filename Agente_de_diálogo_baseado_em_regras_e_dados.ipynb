{
  "cells": [
    {
      "cell_type": "markdown",
      "metadata": {
        "id": "view-in-github",
        "colab_type": "text"
      },
      "source": [
        "<a href=\"https://colab.research.google.com/github/rosacarla/100-days-of-code-challenge-Java/blob/main/Agente_de_di%C3%A1logo_baseado_em_regras_e_dados.ipynb\" target=\"_parent\"><img src=\"https://colab.research.google.com/assets/colab-badge.svg\" alt=\"Open In Colab\"/></a>"
      ]
    },
    {
      "cell_type": "markdown",
      "metadata": {
        "id": "idIMZgaR3IqM"
      },
      "source": [
        "># AGENTE DE DIÁLOGO HÍBRIDO BASEADO EM REGRAS E DADOS\n",
        ">CURSO: Tecnólogo em Inteligência Artificial Aplicada  \n",
        ">DISCIPLINA: Agentes Conversacionais  \n",
        ">AUTORA: Carla Edila Silveira  \n",
        ">OBJETIVO: construir um agente de diálogo que trará ocorrências sobre determinado tema  \n",
        ">MELHORIA: obtenção de dados sobre o Brasil a partir de diferentes fontes  \n",
        ">GITHUB: https://github.com/rosacarla/Chatbot-baseado-em-regras-e-dados  \n",
        ">DATA: 05/09/2023\n",
        "______________________________________________________________________\n",
        "\n",
        "<body>\n",
        "<center>\n",
        "<img src=\"https://i.postimg.cc/0Q7ZcBm7/header.png\" align=\"middle\">\n",
        "</center>\n",
        "</body>"
      ]
    },
    {
      "cell_type": "markdown",
      "metadata": {
        "id": "DDw6X5Dq3h_Z"
      },
      "source": [
        ">## 1. Qual o contexto do projeto?\n",
        "><p align=\"justify\">Um agente de diálogo de <i>question answering</i> que, baseado em um corpus de texto sobre um assunto, traz informações mais relevantes de acordo com a consulta do usuário.</p>"
      ]
    },
    {
      "cell_type": "markdown",
      "metadata": {
        "id": "0XlqXcfuAPbQ"
      },
      "source": [
        ">## 2. Quais ferramentas e técnicas adotar?\n",
        ">*   **NLTK** - toolkit de PLN em Python\n",
        ">*   **Expressões Regulares** - pacote de regex do Python\n",
        ">*   **urllib e BeautifulSoup** - bibliotecas para obter dados de páginas HTML\n",
        ">*   **scikit-learn** - pacote com funcionalidades de manipulação de dados e Machine Learning (serão utilizados TF-IDF e Similaridade de cosseno)\n",
        "\n"
      ]
    },
    {
      "cell_type": "markdown",
      "metadata": {
        "id": "rHKrJBjdBqw1"
      },
      "source": [
        "> ## 3. Construção do agente de diálogo\n",
        ">A operação do agente será deste modo:\n",
        ">1.   Recebe **entrada** do usuário\n",
        ">2.   **Pré-processa** a entrada do usuário\n",
        ">3.   Calcula a **similaridade** entre a entrada e as sentenças do corpus\n",
        ">4.   Obtém a sentença **mais similar do corpus**\n",
        ">5.   Mostra-a como **resposta** ao usuário  \n",
        "\n",
        ">Antes destas etapas, será criado o corpus ao obter automaticamente dados da Wikipedia.\n"
      ]
    },
    {
      "cell_type": "markdown",
      "metadata": {
        "id": "qb2Dp_OFJAyO"
      },
      "source": [
        "> ## 4. Importação de bibliotecas\n",
        "> Importar pacote de expressões regulares do Python e acesso ao WordNet dado pelo NLTK."
      ]
    },
    {
      "cell_type": "code",
      "execution_count": 69,
      "metadata": {
        "colab": {
          "base_uri": "https://localhost:8080/"
        },
        "id": "FRDAwuHdJZoo",
        "outputId": "f5123121-42ae-45ba-dfec-2875856f11de"
      },
      "outputs": [
        {
          "output_type": "stream",
          "name": "stderr",
          "text": [
            "[nltk_data] Downloading package punkt to /root/nltk_data...\n",
            "[nltk_data]   Package punkt is already up-to-date!\n",
            "[nltk_data] Downloading package rslp to /root/nltk_data...\n",
            "[nltk_data]   Package rslp is already up-to-date!\n",
            "[nltk_data] Downloading package stopwords to /root/nltk_data...\n",
            "[nltk_data]   Package stopwords is already up-to-date!\n"
          ]
        }
      ],
      "source": [
        "import nltk\n",
        "nltk.download('punkt')\n",
        "nltk.download('rslp')# Stemming em pt-br\n",
        "from nltk.corpus import stopwords\n",
        "nltk.download('stopwords')# Lista de stopwords\n",
        "import numpy as np\n",
        "import random\n",
        "import string\n",
        "import requests\n",
        "from bs4 import BeautifulSoup\n",
        "import bs4 as bs\n",
        "import urllib.request\n",
        "import re\n",
        "import warnings\n",
        "warnings.filterwarnings(\"ignore\", category=DeprecationWarning)\n",
        "warnings.filterwarnings(\"ignore\", category=UserWarning)"
      ]
    },
    {
      "cell_type": "markdown",
      "metadata": {
        "id": "_iMVzxB8RB-F"
      },
      "source": [
        ">## 5. Construção do corpus\n",
        "><p align=\"justify\">Será feito um <i>web-scraping</i> para obter os dados automaticamente da Wikipedia. Este processo deve ser executado só uma vez, e o arquivo salvo em forma de texto na máquina.</p>"
      ]
    },
    {
      "cell_type": "code",
      "execution_count": 97,
      "metadata": {
        "colab": {
          "base_uri": "https://localhost:8080/"
        },
        "id": "9UPAfE57RCIu",
        "outputId": "4d372f29-dfd3-419d-d30f-d7a80f83bf59"
      },
      "outputs": [
        {
          "output_type": "stream",
          "name": "stdout",
          "text": [
            "coordenadas: 10° s 55° o\n",
            "brasil (localmente [bɾaˈziw][b]), oficialmente república federativa do brasil (? escutar),[7] é o maior país da américa do sul e da região da américa latina, sendo o quinto maior do mundo em área territorial (equivalente a 47,3% do território sul-americano), com 8 510 417,771 km²,[1][8][9] e o sétimo em população[10][11] (com 203 milhões de habitantes, em agosto de 2022).[12] é o único país na américa onde se fala majoritariamente a língua portuguesa e o maior país lusófono do planeta,[13] além de ser uma das nações mais multiculturais e etnicamente diversas, em decorrência da forte imigração oriunda de variados locais do mundo. sua atual constituição, promulgada em 1988, concebe o brasil como uma república federativa presidencialista,[7] formada pela união dos 26 estados, do distrito federal e dos 5 570 municípios.[7][14][nota 1]\n",
            "\n",
            "banhado pelo oceano atlântico, o brasil tem um litoral de 7 491 km[13] e faz fronteira com todos os outros países sul-americanos, e\n"
          ]
        }
      ],
      "source": [
        "# Busca paginas sobre o BRASIL. Para mudar o tema basta colocar o link para outra pagina.\n",
        "# É possivel obter dados de páginas diferentes, basta definir uma lista de links e iterar sobre elas.\n",
        "\n",
        "# Lista de URLs para consulta\n",
        "urls = ['https://pt.wikipedia.org/wiki/Brasil',\n",
        "        'https://brasilescola.uol.com.br/geografia/pais-brasil.htm',\n",
        "        'https://www.worldbank.org/pt/country/brazil/overview',\n",
        "        'https://www.bbc.com/portuguese/articles/cw56kkzgnq6o',\n",
        "        'https://www.bbc.com/portuguese/articles/c3gjpmvkv5eo',\n",
        "        'https://www.bbc.com/portuguese/articles/c51qdpqxneno',\n",
        "        'https://www.bbc.com/portuguese/articles/cj79kpjlp59o',\n",
        "        'https://www.observatoriodasmetropoles.net.br/ibge-apresenta-os-primeiros-resultados-do-censo-2022/'\n",
        "\n",
        "]\n",
        "\n",
        "# Inicializa string para armazenar o texto\n",
        "texto = ''\n",
        "\n",
        "# Itera sobre URLs\n",
        "for url in urls:\n",
        "    try:\n",
        "        # Solicita HTTP para obter conteudo da pagina\n",
        "        codigo_html = urllib.request.urlopen(url)\n",
        "\n",
        "        # Le conteudo da pagina\n",
        "        codigo_html = codigo_html.read()\n",
        "\n",
        "        # Processa codigo HTML lido\n",
        "        html_processado = BeautifulSoup(codigo_html, 'html.parser')\n",
        "\n",
        "        # Busca todos os paragrafos do texto\n",
        "        paragrafos = html_processado.find_all('p')\n",
        "\n",
        "        # Concatena os textos dos paragrafos\n",
        "        for p in paragrafos:\n",
        "            texto += p.text + '\\n'\n",
        "\n",
        "    except Exception as e:\n",
        "        print(f'Erro ao processar a página {url}: {str(e)}')\n",
        "\n",
        "# Normaliza texto para minusculas\n",
        "texto = texto.lower()\n",
        "\n",
        "# Imprime primeiros 1000 caracteres do texto\n",
        "print(texto[:1000])"
      ]
    },
    {
      "cell_type": "markdown",
      "metadata": {
        "id": "AjAXpxbwT5IB"
      },
      "source": [
        ">## 6. Pré-processamento do corpus\n",
        "> É necessário remover caracteres especiais do texto e dividí-lo em sentenças válidas."
      ]
    },
    {
      "cell_type": "code",
      "execution_count": 98,
      "metadata": {
        "colab": {
          "base_uri": "https://localhost:8080/",
          "height": 139
        },
        "id": "XS7MKMOCT5XM",
        "outputId": "0b9edbfb-14c6-45db-855b-75397498a482"
      },
      "outputs": [
        {
          "output_type": "execute_result",
          "data": {
            "text/plain": [
              "'coordenadas: 10° s 55° o brasil (localmente [bɾaˈziw][b]), oficialmente república federativa do brasil (? escutar), é o maior país da américa do sul e da região da américa latina, sendo o quinto maior do mundo em área territorial (equivalente a 47,3% do território sul-americano), com 8 510 417,771 km², e o sétimo em população (com 203 milhões de habitantes, em agosto de 2022). é o único país na américa onde se fala majoritariamente a língua portuguesa e o maior país lusófono do planeta, além de ser uma das nações mais multiculturais e etnicamente diversas, em decorrência da forte imigração oriunda de variados locais do mundo. sua atual constituição, promulgada em 1988, concebe o brasil como uma república federativa presidencialista, formada pela união dos 26 estados, do distrito federal e dos 5 570 municípios. [nota 1] banhado pelo oceano atlântico, o brasil tem um litoral de 7 491 km e faz fronteira com todos os outros países sul-americanos, exceto chile e equador, sendo limitado a no'"
            ],
            "application/vnd.google.colaboratory.intrinsic+json": {
              "type": "string"
            }
          },
          "metadata": {},
          "execution_count": 98
        }
      ],
      "source": [
        "texto = re.sub(r'\\[[0-9]*\\]', ' ', texto)\n",
        "texto = re.sub(r'\\s+', ' ', texto)\n",
        "texto[0:1000]"
      ]
    },
    {
      "cell_type": "code",
      "execution_count": 99,
      "metadata": {
        "colab": {
          "base_uri": "https://localhost:8080/"
        },
        "id": "2FGlLHzSUU7N",
        "outputId": "74664393-0afd-4b50-db85-13dd3999f670"
      },
      "outputs": [
        {
          "output_type": "execute_result",
          "data": {
            "text/plain": [
              "['o vínculo colonial foi rompido, de fato, quando em 1808 a capital do reino foi transferida de lisboa para a cidade do rio de janeiro, depois de tropas francesas comandadas por napoleão bonaparte invadirem o território português.',\n",
              " 'em 1815, o brasil se torna parte de um reino unido com portugal.',\n",
              " 'dom pedro i, o primeiro imperador, proclamou a independência política do país em 1822. inicialmente independente como um império, período no qual foi uma monarquia constitucional parlamentarista, o brasil tornou-se uma república em 1889, em razão de um golpe militar chefiado pelo marechal deodoro da fonseca (o primeiro presidente), embora uma legislatura bicameral, agora chamada de congresso nacional, já existisse desde a ratificação da primeira constituição, em 1824. desde o início do período republicano, a governança democrática foi interrompida por longos períodos de regimes autoritários, até um governo civil e eleito democraticamente assumir o poder em 1985, com o fim da ditadura militar.',\n",
              " 'como potência regional e média, a nação tem reconhecimento e influência internacional, sendo que também é classificada como uma potência global emergente e como uma potencial superpotência por vários analistas.',\n",
              " 'o pib nominal brasileiro foi o décimo segundo maior do mundo e o oitavo por paridade do poder de compra (ppc) em 2020. o país é um dos principais celeiros do planeta, sendo o maior produtor de café dos últimos 150 anos, além de ser classificado como uma economia de renda média-alta pelo banco mundial e como um país recentemente industrializado, que detém a maior parcela de riqueza global da américa do sul.']"
            ]
          },
          "metadata": {},
          "execution_count": 99
        }
      ],
      "source": [
        "sentencas = nltk.sent_tokenize(texto, language='portuguese')\n",
        "palavras = nltk.word_tokenize(texto, language='portuguese')\n",
        "sentencas[10:15]"
      ]
    },
    {
      "cell_type": "markdown",
      "metadata": {
        "id": "65nR3LBTVmy0"
      },
      "source": [
        ">## 7. Funções de pré-processamento de entrada do usuário\n",
        "><p align=\"justify\">Cria funções para pré-processar as entradas do usuário, com retirada de  pontuações e uso de Stemming nos textos, para que palavras similares sejam processadas igualmente pelo algoritmo (por ex., pedra e pedregulho teriam mesma forma léxica).</p>"
      ]
    },
    {
      "cell_type": "code",
      "source": [
        "# Instala biblioteca unidecode para eliminar acentuacao de palavras em Python\n",
        "!pip install unidecode"
      ],
      "metadata": {
        "colab": {
          "base_uri": "https://localhost:8080/"
        },
        "id": "trGevsNDyXoq",
        "outputId": "ad726bc6-5cc3-4033-8fe6-d9cbabf5ae5c"
      },
      "execution_count": 107,
      "outputs": [
        {
          "output_type": "stream",
          "name": "stdout",
          "text": [
            "Collecting unidecode\n",
            "  Downloading Unidecode-1.3.6-py3-none-any.whl (235 kB)\n",
            "\u001b[2K     \u001b[90m━━━━━━━━━━━━━━━━━━━━━━━━━━━━━━━━━━━━━━━\u001b[0m \u001b[32m235.9/235.9 kB\u001b[0m \u001b[31m3.6 MB/s\u001b[0m eta \u001b[36m0:00:00\u001b[0m\n",
            "\u001b[?25hInstalling collected packages: unidecode\n",
            "Successfully installed unidecode-1.3.6\n"
          ]
        }
      ]
    },
    {
      "cell_type": "code",
      "source": [
        "# Importa biblioteca unicode\n",
        "from unidecode import unidecode"
      ],
      "metadata": {
        "id": "Clv-OzSHzCie"
      },
      "execution_count": 109,
      "outputs": []
    },
    {
      "cell_type": "code",
      "execution_count": 110,
      "metadata": {
        "id": "FjMnCjqfVm6N"
      },
      "outputs": [],
      "source": [
        "# Define funcao que faz Stemming em todo texto\n",
        "def stemming(tokens):\n",
        "  stemmer = nltk.stem.RSLPStemmer()\n",
        "  novotexto = []\n",
        "  for token in tokens:\n",
        "    novotexto.append(stemmer.stem(token.lower()))\n",
        "  return novotexto\n",
        "\n",
        "# Funcao que remove pontuacao, stopwords e aplica stemming\n",
        "def preprocessa(documento):\n",
        "  # Remove pontuacao\n",
        "  documento = documento.translate(str.maketrans('', '', string.punctuation))\n",
        "\n",
        "  # Remove acentos\n",
        "  documento = unidecode(documento)\n",
        "\n",
        "  # Tokenizacao de palavras\n",
        "  tokens = nltk.word_tokenize(documento, language='portuguese')\n",
        "\n",
        "  # Remove stopwords\n",
        "  stopwords_pt = set(stopwords.words('portuguese'))\n",
        "  tokens = [token.lower() for token in tokens if token.lower() not in stopwords_pt]\n",
        "\n",
        "  # Aplica stemming\n",
        "  tokens = stemming(tokens)\n",
        "\n",
        "  return tokens"
      ]
    },
    {
      "cell_type": "code",
      "execution_count": 111,
      "metadata": {
        "colab": {
          "base_uri": "https://localhost:8080/"
        },
        "id": "UysIjiIPW6nT",
        "outputId": "82ecee52-dc28-4d66-c449-a0f6c545f933"
      },
      "outputs": [
        {
          "output_type": "execute_result",
          "data": {
            "text/plain": [
              "['ola', 'nom', 'luc', 'mor', 'brasil', 'voc']"
            ]
          },
          "metadata": {},
          "execution_count": 111
        }
      ],
      "source": [
        "# Conferir como fica um texto apos seu pre processamento\n",
        "preprocessa(\"Olá meu nome é Lucas, eu moro no Brasil, e você?\")"
      ]
    },
    {
      "cell_type": "markdown",
      "metadata": {
        "id": "vUL4YvxMYMVc"
      },
      "source": [
        ">## 8. Resposta a saudações\n",
        "><p align=\"justify\">Embora seja um sistema de diálogo baseado em tarefas, é provável que o usuário inicie conversas com saudações ao agente. Por isso, será desenvolvida uma função (regras) para tratar desta situação.</p>  \n",
        "><p align=\"justify\">Serão criado grupos de respostas possíveis, dentre as quais serão escolhidas algumas aleatoriamente, para evitar que o agente fique repetitivo.</p>"
      ]
    },
    {
      "cell_type": "code",
      "execution_count": 112,
      "metadata": {
        "id": "WJNLddZgYMeg"
      },
      "outputs": [],
      "source": [
        "saudacoes_entrada = (\"olá\", \"bom dia\", \"boa tarde\", \"boa noite\", \"oi\", \"como vai\", \"e aí\", \"tudo bem\")\n",
        "saudacoes_respostas = [\"olá\", \"olá, espero que esteja tudo bem contigo\", \"Olá! Como posso ajudar você hoje?\", \"oi\", \"Oie\",\n",
        "                       \"Seja bem-vindo, em que posso te ajudar?\", \"Oi! Estou à disposição para responder às suas perguntas.\",\n",
        "                       \"Olá! Estou aqui para fornecer informações sobre o Brasil. O que você gostaria de saber?\",\n",
        "                       \"Oi! Bem-vindo! O que você deseja saber sobre o Brasil?\"]\n",
        "\n",
        "# Funcao para responder a saudacao\n",
        "def geradorsaudacoes(saudacao):\n",
        "    for token in saudacao.split():\n",
        "        if token.lower() in saudacoes_entrada:\n",
        "            return random.choice(saudacoes_respostas)\n",
        "\n",
        "    # Se nenhuma saudacao conhecida for encontrada, retorna None\n",
        "    return None"
      ]
    },
    {
      "cell_type": "code",
      "execution_count": 114,
      "metadata": {
        "colab": {
          "base_uri": "https://localhost:8080/",
          "height": 35
        },
        "id": "XzW0X0iLZjBU",
        "outputId": "a470a109-5689-4bd4-aaa9-38bb0d23c216"
      },
      "outputs": [
        {
          "output_type": "execute_result",
          "data": {
            "text/plain": [
              "'Oi! Bem-vindo! O que você deseja saber sobre o Brasil?'"
            ],
            "application/vnd.google.colaboratory.intrinsic+json": {
              "type": "string"
            }
          },
          "metadata": {},
          "execution_count": 114
        }
      ],
      "source": [
        "# Ao reexecutar este exemplo serao vistas respostas diferentes\n",
        "geradorsaudacoes('Olá')"
      ]
    },
    {
      "cell_type": "markdown",
      "metadata": {
        "id": "Z_gdo4tjZ3X4"
      },
      "source": [
        ">## 9. Resposta a consultas do usuário\n",
        "><p align=\"justify\">Função para tratar consultas do usuário, com a comparação da similaridade entre a entrada do usuário e as sentenças do corpus. Se houver, a sentença mais similar será mostrada como resposta.</p>\n",
        "><p align=\"justify\">Nesta função utilizam-se os algoritmos TD-IDF (<i>Term Frequency – Inverse Document Frequency</i>) e similaridade de cosseno.</p>"
      ]
    },
    {
      "cell_type": "code",
      "execution_count": 115,
      "metadata": {
        "id": "zITJfxB0Z3ee"
      },
      "outputs": [],
      "source": [
        "from sklearn.feature_extraction.text import TfidfVectorizer\n",
        "from sklearn.metrics.pairwise import cosine_similarity"
      ]
    },
    {
      "cell_type": "code",
      "execution_count": 117,
      "metadata": {
        "id": "DczIGmyUaPMr"
      },
      "outputs": [],
      "source": [
        "# Funcao para responder a consultas do usuario\n",
        "def geradorrespostas(entradausuario): # testar com sentencas\n",
        "  resposta = ''\n",
        "  sentencas.append(entradausuario)\n",
        "\n",
        "  word_vectorizer = TfidfVectorizer(tokenizer=preprocessa, stop_words=stopwords.words('portuguese'))\n",
        "  all_word_vectors = word_vectorizer.fit_transform(sentencas)\n",
        "  similar_vector_values = cosine_similarity(all_word_vectors[-1], all_word_vectors)\n",
        "  similar_sentence_number = similar_vector_values.argsort()[0][-2]\n",
        "\n",
        "  matched_vector = similar_vector_values.flatten()\n",
        "  matched_vector.sort()\n",
        "  vector_matched = matched_vector[-2]\n",
        "\n",
        "  if vector_matched == 0:\n",
        "    resposta = resposta + \"Me desculpe, não entendi o que você pediu.\"\n",
        "    return resposta\n",
        "  else:\n",
        "    resposta = resposta + sentencas[similar_sentence_number]\n",
        "    return resposta"
      ]
    },
    {
      "cell_type": "markdown",
      "metadata": {
        "id": "3VQILIt-bgJ8"
      },
      "source": [
        ">## 10. Interação com o agente de diálogo\n",
        "><p align=\"justify\">Define um algoritmo que continue interagindo com o usuário até que ele decida finalizar.</p>  \n",
        "><p align=\"justify\">O resultado não é sempre o ideal, porém cobre muitas das possíveis perguntas. Se utilizássemos apenas regras de diálogo para responder perguntas sobre um assunto, precisaríamos de centenas de regras.</p>\n",
        "><p align=\"justify\"> Como as respostas são baseadas em dados, apenas uma regra que calcula similaridade com o corpus é suficiente. Faça perguntas como:</p>  \n",
        "\n",
        ">*  *Qual o esporte mais popular no Brasil?*\n",
        ">*  *Quais eventos esportivos o Brasil já organizou?*\n",
        ">*  *Como é a cozinha brasileira?*\n",
        ">*  *Onde são realizadas pesquisas tecnológicas no Brasil?*\n"
      ]
    },
    {
      "cell_type": "code",
      "execution_count": 118,
      "metadata": {
        "colab": {
          "base_uri": "https://localhost:8080/"
        },
        "id": "VMIT3KygbgTe",
        "outputId": "9811f703-b9a7-46d0-dfd7-7853ec386c94"
      },
      "outputs": [
        {
          "output_type": "stream",
          "name": "stdout",
          "text": [
            "Olá, eu sou o Agente Tupiniquim. Me pergunte qualquer coisa sobre nosso país ou diga 'tchau' para sair.\n",
            "oi\n",
            "Agente Tupiniquim: Oi! Estou à disposição para responder às suas perguntas.\n",
            "qual o esporte mais popular no brasil?\n",
            "Agente Tupiniquim: o futebol é o esporte mais popular no brasil.\n",
            "como é a culinária brasileira?\n",
            "Agente Tupiniquim: os ameríndios influenciaram a língua e a culinária do país e os africanos influenciaram a língua, a culinária, a música, a dança e a religião.\n",
            "houve colônia de judeus no Brasil?\n",
            "Agente Tupiniquim: ao final do século xvii, devido à concorrência colonial as exportações de açúcar brasileiro começaram a declinar, mas a descoberta de ouro pelos bandeirantes na década de 1690 abriu um novo ciclo para a economia extrativista da colônia, promovendo uma febre do ouro no brasil, que atraiu milhares de novos colonos, vindos não só de portugal, mas também de outras colônias portuguesas ao redor do mundo, o que por sua vez acabou gerando conflitos (como a guerra dos emboabas), entre os antigos colonos e os recém-chegados.\n",
            "onde são realizadas as pesquisas tecnológicas no brasil?\n",
            "Agente Tupiniquim: a pesquisa tecnológica no brasil é em grande parte realizada em universidades públicas e institutos de pesquisa.\n",
            "quais eventos expostivos o brasil já organizou?\n",
            "Agente Tupiniquim: o executivo e o legislativo estão organizados de forma independente em todas as esferas de governo, enquanto o judiciário é organizado apenas a nível federal e nas esferas estadual e do distrito federal.\n",
            "quais eventos esportivos o brasil já realizou?\n",
            "Agente Tupiniquim: já no fim do século, com a unidade do brasil já assegurada e a escravidão abolida, as elites já não precisavam mais \"de um símbolo vivo do estado\" para estabelecer sua legitimidade.\n",
            "qual é a população total do brasil em 2022?\n",
            "Agente Tupiniquim: o censo 2022 teve início à meia-noite do dia 31 de julho de 2022 e oficialmente começou a registrar os dados da pesquisa em 1º de agosto do mesmo ano.\n",
            "qual é a população do Brasil hoje?\n",
            "Agente Tupiniquim: o brasil é, hoje, a 12ª maior economia do mundo.\n",
            "De quanto é a população no Brasil?\n",
            "Agente Tupiniquim: tive uma surpresa quando li o livro e vi o quanto eles eram religiosos, porque eu não imaginava.\n",
            "quando foi o censo?\n",
            "Agente Tupiniquim: pablo lira, coordenador e pesquisador do núcleo vitória do observatório das metrópoles, comentou a divulgação dos dados preliminares do censo 2022: “é a menor taxa de crescimento populacional desde o primeiro censo do brasil, em 1872. a região sudeste abriga 41,8% da população do país, totalizando 84,8 milhões de habitantes”.\n",
            "Como é feita doação de órgãos no Brasil?\n",
            "Agente Tupiniquim: segundo o pesquisador, a população brasileira ainda não é tão envolvida com a doação de órgãos como a de outros países, o que influencia muito no tamanho da fila de espera no país.\n",
            "tchau\n",
            "Agente Tupiniquim: Até a próxima!\n"
          ]
        }
      ],
      "source": [
        "# Inicia interacao com usuario\n",
        "print(\"Olá, eu sou o Agente Tupiniquim. Me pergunte qualquer coisa sobre nosso país ou diga 'tchau' para sair.\")\n",
        "continue_dialogue = True\n",
        "while continue_dialogue:\n",
        "  # Obtem entrada do usuario\n",
        "  human_text = input().lower()\n",
        "\n",
        "  if human_text != 'tchau':\n",
        "    if human_text == 'obrigado' or human_text == 'muito obrigado' or human_text == 'agradecido' or human_text == 'valeu':\n",
        "      continue_dialogue = False\n",
        "      print(\"Agente Tupiniquim: Disponha!\")\n",
        "    else:\n",
        "      if geradorsaudacoes(human_text) != None:\n",
        "        print(\"Agente Tupiniquim: \" + geradorsaudacoes(human_text))\n",
        "      else:\n",
        "        print(\"Agente Tupiniquim: \", end=\"\")\n",
        "        print(geradorrespostas(human_text))\n",
        "        sentencas.remove(human_text)\n",
        "  else:\n",
        "    continue_dialogue = False\n",
        "    print(\"Agente Tupiniquim: Até a próxima!\")"
      ]
    },
    {
      "cell_type": "markdown",
      "metadata": {
        "id": "0JMOce1PXp1h"
      },
      "source": [
        ">## 11. Como melhorar o projeto?\n",
        "><p align=\"justify\">Este agente de diálogo adota modelo baseado em regras. Uma das regras usa corpus de dados para formular respostas. Assim, o modelo se torna mais flexível, sem necessidade de criar centenas/milhares de regras. Vejamos como melhorar o projeto:</p>  \n",
        "><p align=\"justify\">A) Além dos parágrafos (tag \"p\") da página da Wikipedia, podem ser usados dados dispostos na coluna direita, que trazem informações relevantes, como população, atual presidente etc., para montar sentenças.</p>  \n",
        "><p align=\"justify\">B) Melhorar o cálculo de similaridade com uso de um modelo de Word Embeddings, além do TF-IDF.</p>\n",
        "><p align=\"justify\">C) Obter dados sobre o Brasil a partir de diferentes fontes. - OK!</p>\n",
        "><p align=\"justify\">D) Criar classificador de contexto para o agente e, de modo dinâmico, buscar páginas da Wikipedia correspondentes à pergunta do usuário, para depois dar a resposta. Desse modo o agente não se limitaria a perguntas sobre o Brasil.</p>\n",
        "\n"
      ]
    },
    {
      "cell_type": "markdown",
      "metadata": {
        "id": "vP59ECc53nqF"
      },
      "source": [
        ">## 12. Referências e material complementar  \n",
        ">* [Python for NLP: Creating a Rule-Based Chatbot](https://stackabuse.com/python-for-nlp-creating-a-rule-based-chatbot/)\n",
        ">* [Building a Simple Chatbot from Scratch in Python (using NLTK)](https://morioh.com/p/6cc33336784c)\n",
        ">* [Building a simple chatbot in python](https://medium.com/nxtplus/building-a-simple-chatbot-in-python-3963618c490a)\n",
        ">* [Designing A ChatBot Using Python: A Modified Approach](https://towardsdatascience.com/designing-a-chatbot-using-python-a-modified-approach-96f09fd89c6d)\n",
        ">* [Build Your First Python Chatbot Project](https://dzone.com/articles/python-chatbot-project-build-your-first-python-pro)\n",
        ">* [Python Chatbot Project – Learn to build your first chatbot using NLTK & Keras](https://data-flair.training/blogs/python-chatbot-project/)\n",
        ">* [Python Chat Bot Tutorial - Chatbot with Deep Learning (Part 1)](https://www.youtube.com/watch?v=wypVcNIH6D4)\n",
        ">* [Intelligent AI Chatbot in Python](https://www.youtube.com/watch?v=1lwddP0KUEg)\n",
        ">* [Coding a Jarvis AI Using Python 3 For Beginners](https://www.youtube.com/watch?v=NZMTWBpLUa4)  \n",
        ">* Projeto elaborado a partir de Notebook criado por Prof. [Lucas Oliveira](http://lattes.cnpq.br/3611246009892500)."
      ]
    }
  ],
  "metadata": {
    "colab": {
      "provenance": [],
      "include_colab_link": true
    },
    "kernelspec": {
      "display_name": "Python 3",
      "name": "python3"
    }
  },
  "nbformat": 4,
  "nbformat_minor": 0
}