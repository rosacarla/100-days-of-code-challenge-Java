{
  "nbformat": 4,
  "nbformat_minor": 0,
  "metadata": {
    "colab": {
      "provenance": [],
      "authorship_tag": "ABX9TyP050CSZqDMx03mwVTOGGnG",
      "include_colab_link": true
    },
    "kernelspec": {
      "name": "python3",
      "display_name": "Python 3"
    },
    "language_info": {
      "name": "python"
    }
  },
  "cells": [
    {
      "cell_type": "markdown",
      "metadata": {
        "id": "view-in-github",
        "colab_type": "text"
      },
      "source": [
        "<a href=\"https://colab.research.google.com/github/rosacarla/100-days-of-code-challenge-Java/blob/main/Sistema_Especialista_Progressivo_Regressivo.ipynb\" target=\"_parent\"><img src=\"https://colab.research.google.com/assets/colab-badge.svg\" alt=\"Open In Colab\"/></a>"
      ]
    },
    {
      "cell_type": "markdown",
      "source": [
        "# <b>SISTEMA ESPECIALISTA COM ENCADEAMENTO PROGRESSIVO E REGRESSIVO: estudo de caso do ExpertSystem (Scalabrin)</b>\n",
        "\n",
        "<b>Instituição:</b> PUCPR  \n",
        "<b>Curso:</b> Tecnologia em Inteligência Artificial Aplicada  \n",
        "<b>Disciplina:</b> Engenharia do Conhecimento  \n",
        "<b>Professor:</b> Felipe Gabriel de Mello Elias  \n",
        "<b>Estudante:</b> Carla Edila Silveira  \n",
        "<p align='justify'>\n",
        "<b>Objetivo:</b> testar o código de um sistema especialista; verificar como pode ser construída uma base de regras de produção e como o mecanismo de inferência pode, a partir dessa base, solucionar um problema com uso do encadeamento progressivo ou regressivo. </p>\n",
        "<b>DATA: 03/04/2024 </b>  \n",
        "</br>  \n",
        "</br>  \n",
        "\n",
        "<img src='https://i.postimg.cc/SxZrpcGN/cabecalho-ec.png'>\n"
      ],
      "metadata": {
        "id": "F1UB0F6fIFha"
      }
    },
    {
      "cell_type": "markdown",
      "source": [
        "\n",
        ">### <b>Introdução</b>  \n",
        "<p align='justify'>\n",
        "Este notebook traz anotações de uma atividade prática a fim de testar um sistema especialista que executa raciocínios de encadeamento progressivo e regressivo. Contém o código de um software que implementa mecanismos de encadeamento progressivo e regressivo. </p>  \n",
        "<p align='justify'>\n",
        "A implementação do software foi desenvolvida na linguagem de programação Python, originalmente, pelo professor Edson E. Scalabrin da PUCPR. Esta versão é uma recodificação parcial do código descrito, em 1993, por Bigus &\n",
        "Bigus em Python. </p>  \n",
        "<p align='justify'>\n",
        "Foram mantidos apenas os códigos necessários para montar e processar regras booleanas. A implementação original não faz parte da recodificação da parte gráfica. Para realizar a atividade, foi fornecido o arquivo compactado <b>ExpertSystem.zip</b> e outro arquivo com instruções (tutorial) de como testar o software.  </p>  "
      ],
      "metadata": {
        "id": "Km1We48mNqam"
      }
    },
    {
      "cell_type": "markdown",
      "source": [
        "> ### <b>Encadeamento progressivo e regressivo</b>  \n",
        "\n",
        "<p align='justify'> Antes de explicar os procedimentos necessários para utilizar o sistema especialista da atividade prática, apresentam-se considerações sobre endadeamento progressivo e regressivo. É uma tentativa amparar a compreensão do que está envolvido no desenvolvimento do programa.</p>\n",
        "\n",
        "<p align='justify'> Quanto aos <b>sistemas especialistas</b>, são sistemas de inteligência artificial que tentam emular o raciocínio humano em um domínio específico de conhecimento. São construídos com uma base de conhecimento que contém uma série de <b>regras de produção</b> que representam o conhecimento especializado em um determinado domínio.</b>  \n",
        "\n",
        "<p align='justify'> As regras de produção são escritas para capturar o conhecimento de especialistas humanos no domínio em questão. Elas são compostas de condições (ou antecedentes) e ações (ou consequências). Quando as condições são atendidas, a ação correspondente é acionada. Segue uma exemplificação com a proposição: <i>Se a temperatura é superior a 30 graus Celsius, então ligue o ar condicionado.</i> Neste exemplo, a condição é que a temperatura seja superior a 30 graus Celsius e a ação é ligar o ar condicionado.</p>  \n",
        "\n",
        "<p align='justify'> Assim, as regras de produção são executadas por meio de 2 abordagens de raciocínio: <b>raciocínio progressivo</b> e <b>raciocínio regressivo</b>.</p>\n",
        "<p align='justify'> <b>1. Raciocínio Progressivo</b>: Neste método, as regras de produção são aplicadas de forma progressiva em direção a um objetivo ou solução. Começando com dados iniciais ou estado atual do problema, as regras são aplicadas em sequência até que uma solução seja alcançada ou um estado desejado seja atingido. Cada regra aplicada pode gerar novas informações ou atualizar o estado atual do problema. Esse processo continua até que não haja mais regras aplicáveis ou até que o objetivo seja alcançado.</p>\n",
        "\n",
        "<p align='justify'> <b>2. Raciocínio Regressivo</b>: Ao contrário, o raciocínio regressivo começa com um objetivo ou estado desejado e trabalha retroativamente para determinar quais regras de produção podem ser aplicadas para alcançar o objetivo. Usa a estratégia \"backward chaining\", na qual se começa com o objetivo final e trabalha-se de volta para os dados iniciais ou condições necessárias para alcançar esse objetivo. A cada passo, as regras são aplicadas de forma regressiva, retrocedendo na cadeia de raciocínio até que uma solução ou conclusão seja alcançada.</p>  \n",
        "\n",
        "<p align='justify'> Ambas as abordagens têm suas aplicações e são utilizadas em diferentes contextos, conforme a natureza do problema e das preferências do desenvolvedor ou do sistema de inteligência artificial. O raciocínio progressivo é frequentemente usado em sistemas de inferência e processamento de dados, enquanto o raciocínio regressivo pode ser mais eficaz em problemas de planejamento ou diagnóstico.</b>"
      ],
      "metadata": {
        "id": "8ojZHA_EUgGV"
      }
    },
    {
      "cell_type": "markdown",
      "source": [
        "> ### <b>Sobre o pacote</b>  \n",
        "\n",
        "Após extrair o conteúdo do arquivo <b>ExpertSystem.zip</b>, encontram-se pastas e arquivos com esta estrutura:\n",
        "</br>  \n",
        "\n",
        "<img src='https://i.postimg.cc/0jHFFBZG/estrutura-pacote.png'>  \n",
        "\n",
        "</br>  \n",
        "\n",
        "<p align='justify'>\n",
        "É necessário ter o Python instalado e configurado no ambiente para executar o software. Caso não tenha ainda, recomenda-se providenciar a instalação conforme a instruções passadas no site Python.org para cada tipo de sistema operacional:</b>  \n",
        "\n",
        "• Windows: http://python.org.br/instalacao-windows/  \n",
        "• MacOS: http://python.org.br/instalacao-mac/  \n",
        "• Linux: http://python.org.br/instalacao-linux/"
      ],
      "metadata": {
        "id": "dzUMBiWbQ0LF"
      }
    },
    {
      "cell_type": "markdown",
      "source": [
        "> ### <b> Como o software funciona</b>  \n",
        "\n",
        "<p align='justify'> Para execução de raciocínio com encadeamento progressivo, o texto a seguir foi elaborado pelo prof. Edson E. Scalabrin (2019): “Para ilustrar a aplicação do encadeamento progressivo sobre a base de regras “como  um meio de transporte para ir ao cinema”, a partir daqui chamaremos tal base de “indo ao cinema”. Devem-se seguir estes passos:</b>  \n",
        "\n",
        "<p align='justify'> <b>1) Carregar a base de regras “indo ao cinema” no mecanismo de inferência</b>; para ajudar a testar o mecanismo de encadeamento progressivo há uma código em Python no final deste notebook. Mesmo assim, partes desse código serão exibidtas e explicadas daqui em diante, especialmente as que podem ser modificadas a fim de compor outras bases de regras.</p>"
      ],
      "metadata": {
        "id": "8ex5tNICUHbv"
      }
    },
    {
      "cell_type": "markdown",
      "source": [
        "```python\n",
        "Regra 01: SE distancia > 5\n",
        "        ENTÃO deslocamento = carro\n",
        "Regra 02: SE distancia > 1 E\n",
        "          tempo < 15\n",
        "        ENTÃO deslocamento = carro\n",
        "Regra 03: SE distancia > 1 E\n",
        "          tempo > 15\n",
        "        ENTÃO deslocamento = a-pe\n",
        "Regra 04: SE deslocamento = carro E\n",
        "          localDoCinema = centro\n",
        "        ENTÃO meioDeTransporte = taxi\n",
        "Regra 05: SE deslocamento = carro E\n",
        "          localDoCinema = bairro\n",
        "        ENTÃO meioDeTransporte = carro-proprio\n",
        "Regra 06: SE deslocamento = a-pe E\n",
        "          clima = ruim\n",
        "        ENTÃO meioDeTransporte = a-pe-triste\n",
        "Regra 07: SE deslocamento = a-pe E\n",
        "          clima = bom\n",
        "        ENTÃO meioDeTransporte = a-pe-feliz\n",
        "```"
      ],
      "metadata": {
        "id": "V_e0pLhnwWGT"
      }
    },
    {
      "cell_type": "markdown",
      "source": [
        "<p align='justify'> O conjunto de regras apresentadas são também exibidas em Python (ver abaixo), onde a função <i>create</i> define o script que cria a base de regras “indo ao cinema”. Essa parte do programa e demais funcionalidades podem ser verificadas no final do notebook.</p>"
      ],
      "metadata": {
        "id": "dopFCaFRcsOW"
      }
    },
    {
      "cell_type": "markdown",
      "source": [
        "``` python\n",
        "    def create(self):\n",
        "        distancia = RuleVariable(self.br, \"distancia\")\n",
        "        distancia.set_labels(\"1 50\")\n",
        "        distancia.set_prompt_text(\"Qual é a distância até o cinema [1,50]?\")\n",
        "\n",
        "        deslocamento = RuleVariable(self.br, \"deslocamento\")\n",
        "        deslocamento.set_labels(\"carro a-pe\")\n",
        "        deslocamento.set_prompt_text(\n",
        "            \"Qual é a forma de deslocameto [carro, a-pe]?\")\n",
        "\n",
        "        tempo = RuleVariable(self.br, \"tempo\")\n",
        "        tempo.set_labels(\"0 60\")\n",
        "        tempo.set_prompt_text(\"Qual é o tempo disponível [1,60]?\")\n",
        "\n",
        "        local_do_cinema = RuleVariable(self.br, \"localDoCinema\")\n",
        "        local_do_cinema.set_labels(\"centro bairro\")\n",
        "        local_do_cinema.set_prompt_text(\"Onde é o cinema [centro, bairro]]?\")\n",
        "\n",
        "        meio_de_transporte = RuleVariable(self.br, \"meioDeTransporte\")\n",
        "        meio_de_transporte.set_labels(\n",
        "            \"taxi carro-proprio a-pe-triste a-pe-feliz\")\n",
        "        meio_de_transporte.set_prompt_text(\n",
        "            \"Qual é o meio de transporte [taxi, carro-proprio, a-pe-triste, a-pe-feliz]]?\")\n",
        "\n",
        "        clima = RuleVariable(self.br, \"clima\")\n",
        "        clima.set_labels(\"ruim bom\")\n",
        "        clima.set_prompt_text(\"Como está o clima [bom, ruim]?\")\n",
        "\n",
        "        c_equals = Condition(\"=\")\n",
        "        c_more_then = Condition(\">\")\n",
        "        c_less_than = Condition(\"<\")\n",
        "\n",
        "        Regra01 = Rule(self.br, \"Regra 01\",\n",
        "                       [Clause(distancia, c_more_then, \"5\")],\n",
        "                       Clause(deslocamento, c_equals, \"carro\"))\n",
        "\n",
        "        Regra02 = Rule(self.br, \"Regra 02\",\n",
        "                       [Clause(distancia, c_more_then, \"1\"),\n",
        "                        Clause(tempo, c_less_than, \"15\")],\n",
        "                       Clause(deslocamento, c_equals, \"carro\"))\n",
        "\n",
        "        Regra03 = Rule(self.br, \"Regra 03\",\n",
        "                       [Clause(distancia, c_more_then, \"1\"),\n",
        "                        Clause(tempo, c_more_then, \"15\")],\n",
        "                       Clause(deslocamento, c_equals, \"a-pe\"))\n",
        "\n",
        "        Regra04 = Rule(self.br, \"Regra 04\",\n",
        "                       [Clause(deslocamento, c_equals, \"carro\"),\n",
        "                        Clause(local_do_cinema, c_equals, \"centro\")],\n",
        "                       Clause(meio_de_transporte, c_equals, \"taxi\"))\n",
        "\n",
        "        Regra05 = Rule(self.br, \"Regra 05\",\n",
        "                       [Clause(deslocamento, c_equals, \"carro\"),\n",
        "                        Clause(local_do_cinema, c_equals, \"bairro\")],\n",
        "                       Clause(meio_de_transporte, c_equals, \"carro-proprio\"))\n",
        "\n",
        "        Regra06 = Rule(self.br, \"Regra 06\",\n",
        "                       [Clause(deslocamento, c_equals, \"a-pe\"),\n",
        "                        Clause(clima, c_equals, \"ruim\")],\n",
        "                       Clause(meio_de_transporte, c_equals, \"a-pe-triste\"))\n",
        "\n",
        "        Regra07 = Rule(self.br, \"Regra 07\",\n",
        "                       [Clause(deslocamento, c_equals, \"a-pe\"),\n",
        "                        Clause(local_do_cinema, c_equals, \"bom\")],\n",
        "                       Clause(meio_de_transporte, c_equals, \"a-pe-feliz\"))\n",
        "        return self.br\n",
        "```"
      ],
      "metadata": {
        "id": "kt1XqhZjwncU"
      }
    },
    {
      "cell_type": "markdown",
      "source": [
        "<b> 2) Definir um conjunto de valores iniciais para as variáveis na memória de trabalho.</b>  \n",
        "\n",
        "MEMÓRIA DE TRABALHO  \n",
        "distancia = 2  \n",
        "deslocamento = None  \n",
        "tempo = 10  \n",
        "localDoCinema = centro  \n",
        "meioDeTransporte = None  \n",
        "clima = ruim   \n",
        "\n",
        "  \n"
      ],
      "metadata": {
        "id": "pelGB7P7ejuO"
      }
    },
    {
      "cell_type": "markdown",
      "source": [
        "``` python\n",
        "# Definição do conjunto de valores iniciais das variaáveis em Python:\n",
        "self.br.set_variable_value(\"distancia\", \"2\")\n",
        "self.br.set_variable_value(\"deslocamento\", None)\n",
        "self.br.set_variable_value(\"tempo\", \"10\")\n",
        "self.br.set_variable_value(\"localDoCinema\", \"centro\")\n",
        "self.br.set_variable_value(\"meioDeTransporte\", None)\n",
        "self.br.set_variable_value(\"clima\", \"ruim\")\n",
        "```"
      ],
      "metadata": {
        "id": "G8SMcxbgw16M"
      }
    },
    {
      "cell_type": "markdown",
      "source": [
        "<p align='justify'> <b>3) Examinar as cláusulas antecedentes de cada regra para determinar quais podem ser acionadas.</b></p>  \n",
        "\n",
        "<p align='justify'>Como o valor para distância não é superior a cinco, a regra 01 não pode ser disparada, apenas uma regra é disparada, a regra 02. Em outras palavras, o conjunto de conflitos para o primeiro ciclo de correspondência encerra apenas uma regra, a regra 02.</p>\n",
        "\n"
      ],
      "metadata": {
        "id": "ayjcwwAUfiUd"
      }
    },
    {
      "cell_type": "markdown",
      "source": [
        "``` python\n",
        "Regra 01: SE distancia > 5\n",
        "        ENTÃO deslocamento = carro\n",
        "Regra 02: SE distancia > 1 E\n",
        "          tempo < 15\n",
        "        ENTÃO deslocamento = carro\n",
        "```"
      ],
      "metadata": {
        "id": "wpNcJwRqw-k7"
      }
    },
    {
      "cell_type": "markdown",
      "source": [
        "<p align='justify'> Para a resolução de conflitos, seleciona-se a regra única. Quando se dispara o mecanismo de ação, a regra obriga a vincular o valor \"carro\" à variável \"deslocamento\" e adicioná-lo à memória de trabalho.<p>"
      ],
      "metadata": {
        "id": "n8aD6GxNgJqH"
      }
    },
    {
      "cell_type": "markdown",
      "source": [
        "``` python\n",
        "self.br.set_variable_value(\"deslocamento\", “carro”)\n",
        "```"
      ],
      "metadata": {
        "id": "CD60wSg1xFaj"
      }
    },
    {
      "cell_type": "markdown",
      "source": [
        "MEMÓRIA DE TRABALHO  \n",
        "distancia = 2  \n",
        "deslocamento = carro  \n",
        "tempo = 10  \n",
        "localDoCinema = centro  \n",
        "meioDeTransporte = None  \n",
        "clima = ruim"
      ],
      "metadata": {
        "id": "8qfNKKGvN5C3"
      }
    },
    {
      "cell_type": "markdown",
      "source": [
        "<p align='justify'> Neste ponto, tem-se a preparação para o próximo ciclo de inferências. Há uma comparação das regras para determinar quais podem ser disparadas. Como o <b>deslocamento</b> tem um valor, duas regras são candidatas: 04 e 05. </p>  \n",
        "\n",
        "<p align='justify'> A regra 05 requer <b>localDoCinema = bairro</b>, por isso, é falsa e sobra somente a regra 04, porque todas as cláusulas antecedentes são satisfeitas para a regra 04, com <b>deslocamento\n",
        "= carro</b> e <b>localDoCinema = centro</b>.</p>"
      ],
      "metadata": {
        "id": "sm_LgY56w4Vo"
      }
    },
    {
      "cell_type": "markdown",
      "source": [
        "``` python\n",
        "Regra 04: SE deslocamento = carro E\n",
        "          localDoCinema = centro\n",
        "        ENTÃO meioDeTransporte = taxi\n",
        "Regra 05: SE deslocamento = carro E\n",
        "          localDoCinema = bairro\n",
        "        ENTÃO meioDeTransporte = carro-proprio  \n",
        "```  \n",
        "\n",
        "\n",
        "Com aplicação da regra 04 obtém-se como resultado um novo valor para <b>meio de transporte</b> à memória de trabalho.  \n",
        "\n",
        "``` python  \n",
        "self.br.set_variable_value(\"meioDeTransporte\", “taxi”)  \n",
        "```\n"
      ],
      "metadata": {
        "id": "CBN5aT2Vz0og"
      }
    },
    {
      "cell_type": "markdown",
      "source": [
        "MEMÓRIA DE TRABALHO  \n",
        "distancia = 2  \n",
        "deslocamento = None  \n",
        "tempo = 10  \n",
        "localDoCinema = centro  \n",
        "meioDeTransporte = taxi  \n",
        "clima = ruim"
      ],
      "metadata": {
        "id": "4e-slEGSN-VP"
      }
    },
    {
      "cell_type": "markdown",
      "source": [
        "<p align='justify'>O ciclo continua até que uma condição de parada seja atingida. Porém, percebe-se que apenas uma regra foi acionada novamente, a regra 04. O conjunto de conflitos está vazio, então a inferência progressiva encerra. Deve-se notar que se iniciou com quatro fatos e calcularam-se dois outros fatos, derivando <b>taxi</b> como <b>meio de transporte</b>.</p>  \n",
        "\n",
        "<p align='justify'>Mostrou-se uma abordagem bastante simples de processamento de regras em modo progressivo, porém esta não é a mais eficiente para grandes bases de regras. Nesta linha, o algoritmo <i>Rete</i> constrói uma estrutura de dados de rede para gerenciar as dependências entre dados, testes de condição e regras. Esta abordagem minimiza o número de testes necessários para cada operação de correspondência (Forgy, 1982). Contudo, a grande parte dos sistemas que empregam encadeamento progressivo usam métodos que são menos eficientes, mas mais fáceis de implementar. <i>- Edson E. Scalabrin (2019)</i>. </b>"
      ],
      "metadata": {
        "id": "B47eECSj0utX"
      }
    },
    {
      "cell_type": "markdown",
      "source": [
        "> ### <b> Execução do código</b>  \n",
        "\n",
        "<p align='justify'> A execução do software requer a navegação até a pasta com o arquivo <b>Main.py</b> e uso de comando do Python. No Windows é possível realizar esse procedimento com a seguinte linha de comando:</p>  \n",
        "\n",
        "``` python\n",
        "C:\\Users\\ExpertSystem\\ExpertSystem\\app\\cinema>python Main.py\n",
        "```   \n",
        "\n",
        "Em seguida, o software produz uma saída na tela com as opções para escolha do usuário:\n",
        "\n",
        "</br>  \n",
        "\n",
        "<img src='https://i.postimg.cc/MpbdRhCq/saida-expert-software.png'>"
      ],
      "metadata": {
        "id": "LuCMwZ4i2sl6"
      }
    },
    {
      "cell_type": "markdown",
      "source": [
        "<p align='justify'> Primeiramente, deve-se digitar o valor \"1\" para carregar as regras. Será possível visualizar todas as regras carregadas após digitar o valor “2” para o software exibir esta saída: </p>\n",
        "</br>  \n",
        "\n",
        "<img src='https://i.postimg.cc/m2yf86M2/saida-expert2.png'>"
      ],
      "metadata": {
        "id": "QwXGfb8R5z-w"
      }
    },
    {
      "cell_type": "markdown",
      "source": [
        "<p align='justify'> Para carregar as variáveis iniciais para o exemplo simples de encadeamento progressivo, pressiona-se o valor “3”. Nesta saída, observa-se  que ainda são desconhecidas as variáveis <b>deslocamento value</b> e <b>meioDeTransporte value</b>, pois ambas estão definidas\n",
        "como <b>None</b>. </p>    \n",
        "\n",
        "</br>\n",
        "\n",
        "<img  src='https://i.postimg.cc/50yLkG6c/saida-expert3.png'>"
      ],
      "metadata": {
        "id": "1GbbqkJk8Iv3"
      }
    },
    {
      "cell_type": "markdown",
      "source": [
        "<p align='justify'> Para executar o encadeamento progressivo que dispara as regras com base nas variáveis (premissas) iniciais, digita-se o valor “4”. Na sequência, o software preenche as variáveis que estavam com valor <b>None</b>.</p>  \n",
        "\n",
        "</br>\n",
        "\n",
        "<img src='https://i.postimg.cc/d0WXZLX8/saida-expert4.png'>"
      ],
      "metadata": {
        "id": "kOQz4St29GjO"
      }
    },
    {
      "cell_type": "markdown",
      "source": [
        "<p align='justify'> Para o carregamento das variáveis de encadeamento regressivo, digita-se o valor “5”. Observa-se que todas as variáveis iniciais (premissas) estão configuradas com o valor <b>None</b>, exceto <b>localDoCinema value</b>” e <b>clima value</b>. Quando se tem poucas variáveis iniciais é recomendado utilizar o encadeamento regressivo.</p>  \n",
        "\n",
        "</br>\n",
        "\n",
        "<img src='https://i.postimg.cc/QNpM1D8F/saida-expert5.png'>"
      ],
      "metadata": {
        "id": "jI7VNcqk9GR2"
      }
    },
    {
      "cell_type": "markdown",
      "source": [
        "<p align='justify'> Para executar o encadeamento regressivo, dita-se o valor “6”. Como observado, por haver poucas variáveis, o software solicita que o usuário informe qual seria a variável objetivo. Para responder, o usuário deve digitar <b>deslocamento</b> ou <b>meioDeTransporte</b>. </p>  \n",
        "\n",
        "</br>\n",
        "\n",
        "<img src='https://i.postimg.cc/cC8kgTy3/saida-expert6.png'>"
      ],
      "metadata": {
        "id": "SWh_ZCki_TH_"
      }
    },
    {
      "cell_type": "markdown",
      "source": [
        "<p align='justify'> Com a digitação de <b>deslocamento</b>, o software interage de novo com o usuário para solicitar uma entrada para a distância (entre “1” e “50”). Case se digite o valor “10”, automaticamente há execução do encadeamento regressivo com as variáveis definidas (escolhidas) pelo usuário.</p>  \n",
        "<p align='justify'> Apresenta-se na Fig. 7 o resultado do ciclo de inferência para encadeamento regressivo e a entrada <b>deslocamento value</b> que foi configurada para <b>carro</b>, e chega-se ao final da execução. </p>  \n",
        "\n",
        "</br>\n",
        "\n",
        "<img src='https://i.postimg.cc/PrSKXB87/saida-expert7.png'>"
      ],
      "metadata": {
        "id": "4cOzdqor_TAH"
      }
    },
    {
      "cell_type": "markdown",
      "source": [
        "> ### <b>Conteúdo dos arquivos</b>  \n",
        "\n",
        "<p align='justify'> Para montar uma nova base de regras, é necessário apenas ajustar as classes <b>Main</b> e <b>RuleBaseCinema</b>. No arquivo “Main.py” estão a classe Main e definições iniciais do software, conforme se apresenta a seguir:</p>  \n",
        "\n",
        "``` python\n",
        "from ExpertSystem.api.esMenu import APP\n",
        "from ExpertSystem.app.cinema.RuleBaseCinema import RuleBaseCinema\n",
        "\n",
        "class Main:\n",
        "    def __init__(self):\n",
        "        self.app = APP(\"Rule Application\")\n",
        "\n",
        "    def main(self):\n",
        "        try:\n",
        "            # RuleBaseCinema recebe dois parâmetros:\n",
        "            # o primeiro é nome da base de regras e\n",
        "            # o segundo é a lista de variáveis da base de regras.\n",
        "            # Essas variáveis fazem parte dos possíveis objetivos.\n",
        "            brCinema = RuleBaseCinema(\"Como ir ao Cinema\",\n",
        "                                      \"[deslocamento, meioDeTransporte] :\")\n",
        "            self.app.add_rule_base(brCinema)\n",
        "            self.app.menu()\n",
        "        except Exception as e:\n",
        "            print(\"Exception: RuleApp \", e.with_traceback())\n",
        "\n",
        "\n",
        "if __name__ == '__main__':\n",
        "    Main().main()\n",
        "```  \n",
        "\n"
      ],
      "metadata": {
        "id": "Ulbskt2sCGKv"
      }
    },
    {
      "cell_type": "markdown",
      "source": [
        "\n",
        "<p align='justify'> A classe <b>RuleBaseCinema</b> implementa a maior parte das regras e está no arquivo “RuleBaseCinema.py”, conforme se vê a seguir: </p>\n",
        "\n",
        "``` python  \n",
        "from ExpertSystem.api.esBooleanRuleBase import BooleanRuleBase\n",
        "from ExpertSystem.api.esRuleVariable import RuleVariable\n",
        "from ExpertSystem.api.esCondition import Condition\n",
        "from ExpertSystem.api.esRule import Rule\n",
        "from ExpertSystem.api.esClause import Clause    \n",
        "\n",
        "class RuleBaseCinema:\n",
        "    def __init__(self, nome, goals_list):\n",
        "        self.br = BooleanRuleBase(nome)\n",
        "        self.goals_list = goals_list\n",
        "\n",
        "    def get_goal_list(self):\n",
        "        return self.goals_list\n",
        "\n",
        "    def create(self):\n",
        "        distancia = RuleVariable(self.br, \"distancia\")\n",
        "        distancia.set_labels(\"1 50\")\n",
        "        distancia.set_prompt_text(\"Qual é a distância até o cinema [1,50]?\")\n",
        "\n",
        "        deslocamento = RuleVariable(self.br, \"deslocamento\")\n",
        "        deslocamento.set_labels(\"carro a-pe\")\n",
        "        deslocamento.set_prompt_text(\n",
        "            \"Qual é a forma de deslocameto [carro, a-pe]?\")\n",
        "\n",
        "        tempo = RuleVariable(self.br, \"tempo\")\n",
        "        tempo.set_labels(\"0 60\")\n",
        "        tempo.set_prompt_text(\"Qual é o tempo disponível [1,60]?\")\n",
        "\n",
        "        local_do_cinema = RuleVariable(self.br, \"localDoCinema\")\n",
        "        local_do_cinema.set_labels(\"centro bairro\")\n",
        "        local_do_cinema.set_prompt_text(\"Onde é o cinema [centro, bairro]]?\")\n",
        "\n",
        "        meio_de_transporte = RuleVariable(self.br, \"meioDeTransporte\")\n",
        "        meio_de_transporte.set_labels(\n",
        "            \"taxi carro-proprio a-pe-triste a-pe-feliz\")\n",
        "        meio_de_transporte.set_prompt_text(\n",
        "            \"Qual é o meio de transporte [taxi, carro-proprio, a-pe-triste, a-pe-feliz]]?\")\n",
        "\n",
        "        clima = RuleVariable(self.br, \"clima\")\n",
        "        clima.set_labels(\"ruim bom\")\n",
        "        clima.set_prompt_text(\"Como está o clima [bom, ruim]?\")\n",
        "\n",
        "        c_equals = Condition(\"=\")\n",
        "        c_more_then = Condition(\">\")\n",
        "        c_less_than = Condition(\"<\")\n",
        "\n",
        "        Regra01 = Rule(self.br, \"Regra 01\",\n",
        "                       [Clause(distancia, c_more_then, \"5\")],\n",
        "                       Clause(deslocamento, c_equals, \"carro\"))\n",
        "\n",
        "        Regra02 = Rule(self.br, \"Regra 02\",\n",
        "                       [Clause(distancia, c_more_then, \"1\"),\n",
        "                        Clause(tempo, c_less_than, \"15\")],\n",
        "                       Clause(deslocamento, c_equals, \"carro\"))\n",
        "\n",
        "        Regra03 = Rule(self.br, \"Regra 03\",\n",
        "                       [Clause(distancia, c_more_then, \"1\"),\n",
        "                        Clause(tempo, c_more_then, \"15\")],\n",
        "                       Clause(deslocamento, c_equals, \"a-pe\"))\n",
        "\n",
        "        Regra04 = Rule(self.br, \"Regra 04\",\n",
        "                       [Clause(deslocamento, c_equals, \"carro\"),\n",
        "                        Clause(local_do_cinema, c_equals, \"centro\")],\n",
        "                       Clause(meio_de_transporte, c_equals, \"taxi\"))\n",
        "\n",
        "        Regra05 = Rule(self.br, \"Regra 05\",\n",
        "                       [Clause(deslocamento, c_equals, \"carro\"),\n",
        "                        Clause(local_do_cinema, c_equals, \"bairro\")],\n",
        "                       Clause(meio_de_transporte, c_equals, \"carro-proprio\"))\n",
        "\n",
        "        Regra06 = Rule(self.br, \"Regra 06\",\n",
        "                       [Clause(deslocamento, c_equals, \"a-pe\"),\n",
        "                        Clause(clima, c_equals, \"ruim\")],\n",
        "                       Clause(meio_de_transporte, c_equals, \"a-pe-triste\"))\n",
        "\n",
        "        Regra07 = Rule(self.br, \"Regra 07\",\n",
        "                       [Clause(deslocamento, c_equals, \"a-pe\"),\n",
        "                        Clause(local_do_cinema, c_equals, \"bom\")],\n",
        "                       Clause(meio_de_transporte, c_equals, \"a-pe-feliz\"))\n",
        "        return self.br\n",
        "\n",
        "    def demo_fc(self, LOG):\n",
        "        LOG.append(\n",
        "            \" --- Ajustando valores para Transporte/Cinema para demo ForwardChain ---\")\n",
        "        self.br.set_variable_value(\"distancia\", \"2\")\n",
        "        self.br.set_variable_value(\"deslocamento\", None)\n",
        "        self.br.set_variable_value(\"tempo\", \"10\")\n",
        "        self.br.set_variable_value(\"localDoCinema\", \"centro\")\n",
        "        self.br.set_variable_value(\"meioDeTransporte\", None)\n",
        "        self.br.set_variable_value(\"clima\", \"ruim\")\n",
        "        self.br.display_variables(LOG)\n",
        "\n",
        "    def demo_bc(self, LOG):\n",
        "        LOG.append(\n",
        "            \" --- Ajustando valores para Transporte/Cinema para demo BackwardChain ---\")\n",
        "        self.br.set_variable_value(\"distancia\", None)\n",
        "        self.br.set_variable_value(\"deslocamento\", None)\n",
        "        self.br.set_variable_value(\"tempo\", None)\n",
        "        self.br.set_variable_value(\"localDoCinema\", \"centro\")\n",
        "        self.br.set_variable_value(\"meioDeTransporte\", None)\n",
        "        self.br.set_variable_value(\"clima\", \"ruim\")\n",
        "        self.br.display_variables(LOG)\n",
        "```\n"
      ],
      "metadata": {
        "id": "XqC7UwapCGIT"
      }
    },
    {
      "cell_type": "markdown",
      "source": [
        "<p align='justify'> Os dois últimos blocos de código, referentes às linhas linhas que seguem <b>def demo_fc(self, LOG):</b> e <b>def demo_bc(self, LOG):</b>, apresentam os valores de premissa iniciais. Esses valores podem ser modificados, o que possibilita verificar o comportamento final do software com os estados iniciais modificados.</p>  \n",
        "<p align='justify'>  O código fonte que implementa o menu de opções, apresentado abaixo, demonstra funcionalidades recodificadas em Python e como podem ser chamadas.</p>  \n",
        "\n",
        "``` python\n",
        "class APP:\n",
        "    def __init__(self, app):\n",
        "        try:\n",
        "            self.br = None\n",
        "            self.ref_BR = None\n",
        "            self.LOG = []\n",
        "            self.LOG.append(app)\n",
        "        except Exception as e:\n",
        "            print(\"Exception lançada\")\n",
        "            print(e)\n",
        "\n",
        "    def add_rule_base(self, ref_br):\n",
        "        self.ref_BR = ref_br\n",
        "\n",
        "    def show_log(self):\n",
        "        for x in self.LOG:\n",
        "            print(x, end=' ')\n",
        "\n",
        "    def show_log_new_line(self):\n",
        "        for x in self.LOG:\n",
        "            print(x, end='\\n')\n",
        "\n",
        "    def clear_text(self):\n",
        "        self.LOG.clear()\n",
        "        self.LOG.append(\"\")\n",
        "        self.br.reset()\n",
        "\n",
        "    def menu(self):\n",
        "        naoCarregada = False\n",
        "        while True:\n",
        "            print('\\n              : [0] sair', end='\\n')\n",
        "            print('        REGRAS: [1] carregar, [2] mostrar', end='\\n')\n",
        "            print(' FORWARD-CHAIN: [3] carregar variaveis, [4] executar, [7] reset', end='\\n')\n",
        "            print('BACKWARD-CHAIN: [5] carregar variaveis, [6] executar, [7] reset', end='\\n')\n",
        "            print('Digite sua opcao: ')\n",
        "            option = int(input())\n",
        "\n",
        "            if option == 0:\n",
        "                return\n",
        "            elif option == 1:\n",
        "                if not naoCarregada:\n",
        "                    self.br = self.ref_BR.create()\n",
        "                    naoCarregada = True\n",
        "                else:\n",
        "                    print(\"Base de regas já foi carregada!!\")\n",
        "            elif option == 2:\n",
        "                self.br.display_rules(self.LOG)\n",
        "                self.show_log()\n",
        "                self.LOG = []\n",
        "            elif option == 3:\n",
        "                self.ref_BR.demo_fc(self.LOG)\n",
        "                self.show_log_new_line()\n",
        "                self.LOG = []\n",
        "            elif option == 4:\n",
        "                self.LOG.append(\" --- Starting Inferencing Cycle --- \")\n",
        "                self.br.forward_chain()\n",
        "                self.br.display_variables(self.LOG)\n",
        "                self.show_log_new_line()\n",
        "                self.LOG = []\n",
        "            elif option == 5:\n",
        "                self.ref_BR.demo_bc(self.LOG)\n",
        "                self.show_log_new_line()\n",
        "                self.LOG = []\n",
        "            elif option == 6:\n",
        "                goal_list = self.ref_BR.get_goal_list()\n",
        "                print(\"Informe a variavel objetivo \", goal_list)\n",
        "                goal = input()\n",
        "                goal_var = self.br.get_variable(goal)\n",
        "                if goal_var is not None:\n",
        "                    self.br.backward_chain(goal)\n",
        "                else:\n",
        "                    self.LOG.append(\"goalVar.__name__: NAO ENCONTEADA\")\n",
        "                self.LOG.append(\" --- Ending Inferencing Cycle --- \")\n",
        "                if goal_var is not None:\n",
        "                    result = goal_var.get_value()\n",
        "                else:\n",
        "                    result = \"DESCONHECIDO\"\n",
        "                self.LOG.append(\"RESULTADO: \" + str(result))\n",
        "                self.br.display_variables(self.LOG)\n",
        "                self.show_log_new_line()\n",
        "                self.LOG = []\n",
        "            elif option == 7:\n",
        "                self.clear_text()\n",
        "\n",
        "```"
      ],
      "metadata": {
        "id": "iYBuw2bZCGEo"
      }
    },
    {
      "cell_type": "markdown",
      "source": [
        "> ### <b>LINKS ÚTEIS:</b>  \n",
        ">\n",
        ">https://www.w3schools.com/python/  \n",
        ">\n",
        ">https://www.python.org/about/gettingstarted/  \n",
        ">\n",
        ">https://www.codecademy.com/learn/learn-python  \n",
        ">\n",
        "> </br>\n",
        ">\n",
        "> ### <b>REFERÊNCIAS BIBLIOGRÁFICAS</b>   \n",
        ">\n",
        ">BIGUS, Joseph P.; BIGUS, Jennifer. <b>Constructing intelligent agents using Java.</b> 2001. John Wiley & Sons; 2nd edição.\n",
        ">\n",
        ">SCALABRIN, Edson E. <b>Material de apoio para a disciplina “Engenharia de Conhecimento”</b>. 2019. PUCPR"
      ],
      "metadata": {
        "id": "WCWv2SmOCF_3"
      }
    }
  ]
}